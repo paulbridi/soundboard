{
 "cells": [
  {
   "cell_type": "markdown",
   "id": "b85aeb7d",
   "metadata": {},
   "source": [
    "### Imports"
   ]
  },
  {
   "cell_type": "code",
   "execution_count": 135,
   "id": "37ad94cb",
   "metadata": {},
   "outputs": [],
   "source": [
    "from google.cloud import storage\n",
    "from IPython.display import Audio\n",
    "import os\n",
    "import pandas as pd\n",
    "import librosa\n",
    "import soundfile as sf\n",
    "from itertools import islice\n",
    "import tensorflow as tf\n",
    "import librosa\n",
    "import numpy as np"
   ]
  },
  {
   "cell_type": "markdown",
   "id": "d411d853",
   "metadata": {},
   "source": [
    "### GC storage"
   ]
  },
  {
   "cell_type": "markdown",
   "id": "cebb40af",
   "metadata": {},
   "source": [
    "Initialise connection to google cloud bucket"
   ]
  },
  {
   "cell_type": "code",
   "execution_count": 136,
   "id": "00ebbf04",
   "metadata": {},
   "outputs": [],
   "source": [
    "storage_client = storage.Client()\n",
    "bucket = storage_client.bucket('soundboard_data')"
   ]
  },
  {
   "cell_type": "code",
   "execution_count": 137,
   "id": "484e9fa4",
   "metadata": {},
   "outputs": [],
   "source": [
    "# audio_path = \"gs://your-bucket-name/your-audio-file.mp3\""
   ]
  },
  {
   "cell_type": "code",
   "execution_count": 138,
   "id": "2614ec5d",
   "metadata": {},
   "outputs": [],
   "source": [
    "blobs = storage_client.list_blobs('soundboard_data')"
   ]
  },
  {
   "cell_type": "markdown",
   "id": "1bf38b3e",
   "metadata": {},
   "source": [
    "### Onset extraction"
   ]
  },
  {
   "cell_type": "markdown",
   "id": "f8928d34",
   "metadata": {
    "tags": []
   },
   "source": [
    "This is an attempt to simply extract the loudest onset from the audio file"
   ]
  },
  {
   "cell_type": "code",
   "execution_count": 139,
   "id": "726e9253-9bf0-404e-88a4-430b6bfcb455",
   "metadata": {},
   "outputs": [
    {
     "name": "stdout",
     "output_type": "stream",
     "text": [
      "File 0: train_--PJHxphWEs.wav\n",
      "Loudest onset at 7.964444444444444 seconds\n",
      "File 1: train_--aE2O5G5WE.wav\n",
      "Loudest onset at 1.1609977324263039 seconds\n",
      "File 2: train_--aaILOrkII.wav\n",
      "Loudest onset at 3.2856235827664397 seconds\n",
      "File 3: train_--cB2ZVjpnA.wav\n",
      "Loudest onset at 1.3815873015873017 seconds\n",
      "File 4: train_--ekDLDTUXA.wav\n",
      "Loudest onset at 2.066575963718821 seconds\n"
     ]
    }
   ],
   "source": [
    "from scipy.signal.windows import cosine\n",
    "\n",
    "\n",
    "# Display the i audio files\n",
    "for i, blob in enumerate(blobs):\n",
    "        if i>4:\n",
    "            break\n",
    "        print(f'File {i}: {blob.name}')\n",
    "        # Download the audio file to a local file\n",
    "        file_path = os.path.join('../data/temp_audio', blob.name.split('/')[-1])\n",
    "        blob.download_to_filename(file_path)\n",
    "\n",
    "        # Load the audio file with librosa\n",
    "        y, sr = librosa.load(file_path, sr=44100)\n",
    "\n",
    "        # Calculate the onset strength envelope\n",
    "        onset_env = librosa.onset.onset_strength(y=y, sr=sr)\n",
    "\n",
    "        # Set duration to extract\n",
    "        extract_duration = 1.0  # in seconds\n",
    "\n",
    "        # Find the onset with the highest onset strength\n",
    "        onset_idx = onset_env.argmax()\n",
    "\n",
    "        # Extract the audio segment around the onset\n",
    "        segment_duration = 1.0  # in seconds\n",
    "        segment_samples = int(segment_duration * sr)\n",
    "        start_sample = max(onset_idx - segment_samples // 2, 0)\n",
    "        end_sample = min(onset_idx + segment_samples // 2, len(y))\n",
    "        audio_segment = y[start_sample:end_sample]\n",
    "\n",
    "#         # Apply a cosine window to the end of the audio segment to avoid clicking\n",
    "#         release_duration = 1.0  # in seconds\n",
    "#         release_samples = int(release_duration * sr)\n",
    "#         cosine_win = cosine(release_samples)\n",
    "#         cosine_win = np.resize(cosine_win, (len(audio_segment[-release_samples:]),))\n",
    "\n",
    "#         cosine_fade_out = cosine_win[::-1]\n",
    "#         audio_segment[-release_samples:] *= cosine_fade_out\n",
    "\n",
    "        # Save the combined audio signal to a file\n",
    "        sf.write(f'highest_onset_sounds_{i}.wav', audio_segment, samplerate=sr)\n",
    "        # Calculate the time values for the loudest onset\n",
    "        onset_time = librosa.frames_to_time(onset_idx, sr=sr)\n",
    "        print(f\"Loudest onset at {onset_time} seconds\")\n",
    "        \n",
    "        ############################## yootoob ########################################\n",
    "        \n",
    "#         yt = YouTube(f\"https://www.youtube.com/watch?v={blob.name}\")\n",
    "#         yt.streams.first().download()\n",
    "\n",
    "#         # Extract the audio from the video\n",
    "#         video_file = f\"{yt.title}.mp4\"\n",
    "#         clip = VideoFileClip(video_file)\n",
    "#         clip.audio.write_audiofile(audio_file)\n",
    "\n",
    "#         # Load the audio file and compute its onset strength\n",
    "#         y, sr = librosa.load(audio_file)\n",
    "#         onset_env = librosa.onset.onset_strength(y, sr=sr)\n",
    "\n",
    "#         # Find the index of the loudest onset\n",
    "#         loudest_onset_idx = onset_env.argmax()\n",
    "\n",
    "#         # Extract the one second of audio from the loudest onset\n",
    "#         start_time = loudest_onset_idx / sr\n",
    "#         end_time = start_time + 1\n",
    "#         audio_segment = y[int(start_time * sr):int(end_time * sr)]\n",
    "\n",
    "#         # Save the extracted audio to a file\n",
    "#         output_file = f\"{yt.title}_loudest_audio.mp3\"\n",
    "#         librosa.output.write_wav(output_file, audio_segment, sr)\n",
    "\n"
   ]
  },
  {
   "cell_type": "code",
   "execution_count": 147,
   "id": "a2dfdebb-6f65-4d55-b389-6e4ef0f2b42f",
   "metadata": {},
   "outputs": [
    {
     "data": {
      "text/plain": [
       "array([0.        , 0.        , 0.        , 2.2787771 , 1.3436279 ,\n",
       "       1.964081  , 2.0262208 , 0.5610899 , 0.38934806, 0.91235125,\n",
       "       1.2067661 , 0.61935425, 1.0472625 , 3.0405273 , 1.0469017 ,\n",
       "       0.53570306, 0.5097687 , 1.0750645 , 0.98249507, 0.6731513 ,\n",
       "       0.8579284 , 0.60253835, 0.6725758 , 0.93474734, 1.0020194 ,\n",
       "       1.5629772 , 0.97069055, 0.8329183 , 0.8706691 , 0.791136  ,\n",
       "       1.4450803 , 2.2691553 , 0.75443554, 0.62202716, 0.7893933 ,\n",
       "       1.1864437 , 0.63901055, 0.9618398 , 1.4296448 , 2.6884856 ,\n",
       "       1.0587709 , 0.48750162, 1.1385667 , 0.8004171 , 0.93737876,\n",
       "       0.7322731 , 0.75670135, 1.0545313 , 1.1466562 , 0.8483678 ,\n",
       "       0.79476243, 1.0692778 , 0.7802081 , 0.9803698 , 1.0051715 ,\n",
       "       0.9575169 , 1.879289  , 2.1582832 , 0.5609379 , 0.7142529 ,\n",
       "       0.783982  , 0.6123419 , 1.0682534 , 0.72970045, 1.876934  ,\n",
       "       1.6126767 , 0.9749603 , 1.073889  , 0.9619886 , 1.1057125 ,\n",
       "       0.9377555 , 0.73010087, 0.82476497, 1.2360306 , 0.6537905 ,\n",
       "       0.4466836 , 1.1307604 , 0.938862  , 1.1584715 , 1.3222009 ,\n",
       "       1.0753542 , 0.972312  , 1.3100001 , 1.0531507 , 0.9261178 ,\n",
       "       1.1487396 , 0.8069359 , 0.7712499 , 0.7587166 , 0.9681741 ,\n",
       "       0.98944134, 0.8928572 , 0.8148319 , 0.9581235 , 0.88249445,\n",
       "       0.9541061 , 0.87353873, 0.8256777 , 0.8231781 , 0.79990685,\n",
       "       1.043263  , 1.2953535 , 0.7945092 , 0.6215705 , 1.0291636 ,\n",
       "       0.7628182 , 0.5488008 , 1.2629249 , 1.3534186 , 1.4767119 ,\n",
       "       0.97781855, 0.29490858, 0.9317439 , 1.0648278 , 1.0818639 ,\n",
       "       0.80285275, 0.8997785 , 1.3512318 , 1.2297325 , 0.8311394 ,\n",
       "       0.901176  , 0.6864556 , 0.73113036, 0.9310067 , 0.6676569 ,\n",
       "       1.2587898 , 1.1446835 , 0.8470743 , 0.7228144 , 1.0408313 ,\n",
       "       0.8850178 , 0.82105553, 0.8561287 , 1.1355759 , 0.9431151 ,\n",
       "       0.74489903, 0.7378119 , 0.8722715 , 1.0052092 , 0.93682176,\n",
       "       0.8873422 , 0.6586663 , 1.4606326 , 2.5475545 , 0.67795426,\n",
       "       1.1947399 , 0.8014254 , 0.680839  , 0.8394965 , 1.3222338 ,\n",
       "       1.5760186 , 0.9829718 , 0.9934641 , 1.1315074 , 1.0813237 ,\n",
       "       0.8076376 , 0.5866074 , 0.7723946 , 0.6405891 , 0.9105259 ,\n",
       "       0.75492203, 0.6923113 , 0.9805069 , 1.1509924 , 1.0350987 ,\n",
       "       1.0025922 , 0.8538276 , 0.6117779 , 0.95993674, 0.59869367,\n",
       "       0.5914544 , 0.8569875 , 0.85370326, 0.86295366, 1.1888843 ,\n",
       "       1.1147165 , 0.8965829 , 1.1914746 , 3.1003094 , 0.7431428 ,\n",
       "       0.9097333 , 0.7398748 , 0.4616222 , 0.99184245, 1.1272807 ,\n",
       "       1.296552  , 1.2129047 , 1.925136  , 1.386606  , 1.0832189 ,\n",
       "       1.0786759 , 1.2612323 , 0.7106601 , 1.0922856 , 0.9855056 ,\n",
       "       0.7846471 , 1.1790078 , 0.96761304, 0.8858115 , 0.7978865 ,\n",
       "       0.74324644, 1.0134848 , 0.6655277 , 1.2085031 , 1.3997079 ,\n",
       "       0.8062227 , 0.43253258, 0.7970458 , 1.1582639 , 0.8518981 ,\n",
       "       0.782526  , 0.77220154, 1.1003226 , 0.98198515, 0.7263917 ,\n",
       "       1.121542  , 0.6085849 , 1.0122566 , 1.2187932 , 0.8714955 ,\n",
       "       0.8899586 , 0.8021815 , 1.0459391 , 1.1844655 , 0.9145593 ,\n",
       "       0.7894106 , 1.365918  , 1.7512145 , 1.8730156 , 1.1344442 ,\n",
       "       0.8069905 , 0.58249474, 0.9269786 , 0.7461752 , 0.581792  ,\n",
       "       0.90157413, 1.4016284 , 1.6544808 , 0.93238527, 0.3745332 ,\n",
       "       0.80044174, 1.5331883 , 0.624652  , 0.9615592 , 1.0167929 ,\n",
       "       0.7821053 , 0.76854986, 1.9211445 , 0.61175954, 0.74973166,\n",
       "       1.5542711 , 0.85643584, 0.5336327 , 1.0389946 , 1.4626111 ,\n",
       "       0.9169277 , 0.75607204, 1.0102965 , 1.1030979 , 0.7612516 ,\n",
       "       1.5194898 , 1.2501677 , 1.0327564 , 1.0097389 , 0.79354596,\n",
       "       1.0087415 , 1.067018  , 0.758084  , 1.0145441 , 0.8704304 ,\n",
       "       1.1935914 , 1.3395041 , 0.625848  , 0.68852305, 0.9187031 ,\n",
       "       0.89554614, 0.73740005, 0.79364526, 1.080717  , 0.8228727 ,\n",
       "       1.0307727 , 1.3371265 , 1.3783662 , 0.38741815, 0.87338984,\n",
       "       1.4280621 , 0.79590446, 1.3329563 , 1.4909245 , 1.0753275 ,\n",
       "       0.836138  , 1.2265539 , 1.2403843 , 1.0018531 , 0.89221615,\n",
       "       0.7671974 , 0.4505629 , 0.7450157 , 0.88367426, 1.0742854 ,\n",
       "       0.926348  , 1.0772516 , 0.8768835 , 0.9932084 , 1.2143621 ,\n",
       "       0.7651156 , 1.0549661 , 1.1824307 , 1.0969515 , 0.791785  ,\n",
       "       0.4242103 , 0.7297208 , 1.3840574 , 1.2047418 , 0.9482812 ,\n",
       "       0.57898694, 0.7399528 , 1.2782167 , 1.112436  , 1.7221532 ,\n",
       "       1.1868992 , 0.5032444 , 1.141986  , 0.9935818 , 1.4713106 ,\n",
       "       0.5085894 , 0.80397654, 1.3925588 , 1.4726478 , 0.789728  ,\n",
       "       0.8591002 , 0.99393886, 0.7431955 , 1.2368034 , 1.105291  ,\n",
       "       0.89765894, 0.6683277 , 0.73693216, 0.9199666 , 1.1148438 ,\n",
       "       0.8898893 , 0.79821193, 1.0680285 , 1.1060685 , 1.0178852 ,\n",
       "       1.1819823 , 0.94428587, 1.1946155 , 0.92926383, 0.9470046 ,\n",
       "       0.9510692 , 0.6328124 , 1.0482981 , 1.066848  , 1.0792528 ,\n",
       "       1.015634  , 1.2029086 , 1.1640408 , 0.8111459 , 0.897645  ,\n",
       "       0.99234605, 0.8759551 , 1.0397768 , 1.136239  , 0.7272862 ,\n",
       "       0.6362688 , 0.81856   , 0.8662205 , 0.933503  , 1.1027018 ,\n",
       "       1.1212025 , 1.0499603 , 0.89919436, 0.6629827 , 0.98175085,\n",
       "       1.7250158 , 1.1082326 , 0.4888639 , 0.46159893, 0.61165357,\n",
       "       0.685762  , 0.7590835 , 0.9174479 , 0.69718844, 1.0579228 ,\n",
       "       1.3249799 , 1.3219339 , 1.1693186 , 1.6398724 , 1.5742168 ,\n",
       "       0.9775741 , 1.0451914 , 0.95738435, 0.9735644 , 1.0853491 ,\n",
       "       0.7169977 , 0.91992104, 0.6668874 , 0.86726856, 1.1927497 ,\n",
       "       0.8738148 , 0.90608823, 1.1127125 , 0.89259416, 1.2253958 ,\n",
       "       1.0933467 , 0.569584  , 0.74080944, 1.0336703 , 1.0485207 ,\n",
       "       0.99300164, 0.8509211 , 0.8314363 , 0.82272375, 0.9055704 ,\n",
       "       1.0087726 , 0.8271545 , 0.9768846 , 0.9940248 , 0.56879246,\n",
       "       0.7974477 , 0.9429742 , 0.9986851 , 1.1822615 , 1.2544595 ,\n",
       "       0.7658723 , 0.78808707, 0.896213  , 1.3931185 , 1.6980337 ,\n",
       "       1.3531697 , 0.9150323 , 1.3518082 , 0.7936349 , 0.82161146,\n",
       "       0.9879192 , 1.040767  , 1.0954692 , 0.7998675 , 0.99598527,\n",
       "       1.2432873 , 1.6738079 , 0.89559007, 0.9038326 , 0.6672722 ,\n",
       "       0.89264864, 1.0988128 , 0.6723613 , 0.7359347 , 1.3996747 ,\n",
       "       1.1918727 , 0.9838482 , 1.0442125 , 0.7349021 , 0.78290105,\n",
       "       1.0321343 , 1.0508909 , 0.8319926 , 1.3416071 , 1.1986673 ,\n",
       "       0.37305498, 1.0014946 , 0.82453656, 1.0716515 , 1.3860503 ,\n",
       "       1.1072849 , 0.6490817 , 0.673938  , 0.6076952 , 0.9150175 ,\n",
       "       1.0118283 , 0.7744734 , 0.79479206, 1.3423331 , 0.9532918 ,\n",
       "       1.5604289 , 1.5198116 , 0.5074167 , 0.6597322 , 0.5514549 ,\n",
       "       1.1591946 , 1.1036384 , 0.8505931 , 1.616271  , 2.214943  ,\n",
       "       1.9392518 , 0.80480164, 0.78990334, 1.2268368 , 1.0660994 ,\n",
       "       0.98959184, 0.9772826 , 1.051286  , 1.0281327 , 1.315201  ,\n",
       "       0.5774441 , 0.5127959 , 0.8920435 , 0.5384805 , 0.7481022 ,\n",
       "       0.85493934, 0.9926446 , 0.8222321 , 0.85707283, 0.91128004,\n",
       "       0.7919457 , 0.9154703 , 1.1869614 , 0.9597897 , 1.1337867 ,\n",
       "       0.85674924, 1.1943928 , 0.93721414, 0.45916712, 0.6303647 ,\n",
       "       1.1755764 , 1.039939  , 1.1689979 , 0.9542577 , 1.364299  ,\n",
       "       1.2381494 , 1.146523  , 0.8106173 , 0.73894614, 0.99891794,\n",
       "       0.88727105, 0.99296427, 1.0117102 , 1.7304478 , 1.3383265 ,\n",
       "       0.6861038 , 0.56369865, 0.84317607, 1.4385469 , 0.85017824,\n",
       "       0.68101203, 0.813668  , 1.0183841 , 1.1089027 , 0.82219183,\n",
       "       0.88453287, 1.2507827 , 0.8918975 , 0.8959488 , 0.49517286,\n",
       "       0.9741049 , 0.8242706 , 1.1040838 , 0.8901408 , 0.8534428 ,\n",
       "       0.67452323, 1.4566315 , 1.0705917 , 1.0521815 , 0.9543065 ,\n",
       "       0.80271745, 0.73392963, 1.0265962 , 0.9775934 , 0.91552466,\n",
       "       0.5187469 , 0.86719805, 0.99451137, 0.94021213, 0.8111554 ,\n",
       "       1.1068664 , 1.5067451 , 1.3245785 , 1.0804281 , 1.0083131 ,\n",
       "       0.8397867 , 0.95010805, 0.72951424, 0.84960794, 0.7458489 ,\n",
       "       1.1541166 , 1.0705961 , 0.98152107, 0.82819426, 1.0886016 ,\n",
       "       0.865206  , 0.49640426, 0.45181656, 0.870867  , 1.3700951 ,\n",
       "       1.2620888 , 1.2088984 , 1.1831484 , 1.2199426 , 1.0483041 ,\n",
       "       0.6095019 , 1.1899085 , 0.9386021 , 0.7355635 , 0.8900269 ,\n",
       "       1.2861733 , 0.9917288 , 1.0346885 , 2.1472144 , 0.43211257,\n",
       "       0.2893693 , 1.0437578 , 1.0163856 , 0.5746567 , 0.80543524,\n",
       "       0.69154   , 0.96695316, 0.93181574, 0.9591198 , 0.682475  ,\n",
       "       1.0345986 , 1.3887227 , 0.73431134, 0.8680252 , 1.5652097 ,\n",
       "       2.0046415 , 0.7970102 , 0.43002766, 0.6511545 , 0.788596  ,\n",
       "       1.3493946 , 1.1969547 , 1.3273774 , 1.2454408 , 1.0944369 ,\n",
       "       0.88419926, 1.0561147 , 0.69431317, 1.3568076 , 1.0950854 ,\n",
       "       0.55313367, 0.88301826, 1.1383779 , 0.9630829 , 1.0951825 ,\n",
       "       0.85705715, 1.1248424 , 0.78420234, 0.7663095 , 0.92121017,\n",
       "       0.74372077, 1.1101282 , 1.2165873 , 1.1988819 , 1.0396826 ,\n",
       "       0.7618364 , 0.9913388 , 0.71391755, 1.305785  , 1.3861839 ,\n",
       "       1.0720412 , 0.6593888 , 0.6159637 , 0.6583996 , 0.606803  ,\n",
       "       1.483444  , 1.3347319 , 0.5167059 , 0.4438064 , 1.1341877 ,\n",
       "       1.0655091 , 1.041534  , 1.1046957 , 1.2633758 , 0.81929004,\n",
       "       1.081076  , 1.2218047 , 0.83268297, 1.2406237 , 1.408578  ,\n",
       "       1.1021856 , 0.88513356, 0.9993162 , 0.74590164, 0.53583443,\n",
       "       0.8362851 , 0.79822314, 1.3064979 , 0.74162465, 0.9324263 ,\n",
       "       1.117073  , 1.3817674 , 1.2451783 , 0.98961484, 0.97032946,\n",
       "       1.1936889 , 1.1054082 , 1.1359152 , 1.1271892 , 1.330612  ,\n",
       "       0.8127841 , 0.6600289 , 0.6560801 , 0.49471292, 0.82124656,\n",
       "       1.1892747 , 1.2279246 , 0.5908739 , 0.9640638 , 1.0346954 ,\n",
       "       0.863535  , 0.8360069 , 1.2824031 , 1.1908579 , 1.2900585 ,\n",
       "       1.1618549 , 0.74103594, 1.155054  , 1.379417  , 0.845617  ,\n",
       "       0.98383117, 0.8134358 , 0.6518454 , 0.61479974, 1.1468565 ,\n",
       "       0.9178219 , 0.69012016, 0.76497746, 0.8833953 , 0.8956358 ,\n",
       "       0.8813317 , 1.3100028 , 1.2061304 , 0.51235133, 1.1231273 ,\n",
       "       0.9490445 , 0.6954251 , 0.9283367 , 1.1171844 , 1.1536112 ,\n",
       "       0.955911  , 1.502986  , 1.1039973 , 0.9293806 , 0.7798306 ,\n",
       "       1.2096076 , 1.116828  , 0.97121465, 0.9720618 , 1.8425097 ,\n",
       "       1.5449773 , 0.7470137 , 1.0450087 , 0.5343589 , 0.60168695,\n",
       "       0.7077799 , 1.2623241 , 1.189965  , 1.2403564 , 0.935722  ,\n",
       "       1.2300392 , 1.3131381 , 1.0042834 , 0.78921866, 0.89244056,\n",
       "       0.8046989 , 1.158507  , 1.1194735 , 0.6972594 , 0.75464404,\n",
       "       0.5845264 , 1.3185842 , 0.7743287 , 0.9475707 , 0.96273804,\n",
       "       1.1417017 , 1.0383849 , 0.870003  , 0.67847323, 0.96183324,\n",
       "       0.8705352 , 1.3083488 , 1.359998  , 0.96267396, 1.129439  ,\n",
       "       1.189033  , 1.1034132 , 0.7525413 , 0.6446638 , 1.1231229 ,\n",
       "       1.4690194 , 1.5419593 , 0.8616784 , 1.1507057 , 1.1470928 ,\n",
       "       0.7284859 , 1.0378982 , 1.0798489 , 0.8621356 , 0.8733351 ,\n",
       "       0.8351659 , 1.0884862 , 1.166272  , 0.94769764, 0.555595  ,\n",
       "       0.8712632 , 1.0117308 , 1.1794748 , 1.0929086 , 0.9310985 ,\n",
       "       0.97575545, 0.5593653 , 0.8715891 , 0.8457452 , 0.8924624 ,\n",
       "       0.898268  , 1.3292236 , 1.4494085 , 1.185247  , 1.629167  ,\n",
       "       0.55153394, 0.7455279 , 0.9468462 , 1.2054263 , 0.44327813,\n",
       "       0.6451111 , 1.0836277 , 1.2284431 , 1.2811812 , 1.0411873 ,\n",
       "       1.4052738 , 1.2368181 , 1.1683128 , 1.1993115 , 0.819294  ,\n",
       "       0.6419984 , 0.99128926, 1.2866844 , 0.85072434, 0.58852553,\n",
       "       0.9027926 , 1.201513  , 1.11756   , 0.802029  , 0.81585264,\n",
       "       1.2374717 , 1.0857663 , 0.5896559 , 0.7556498 , 1.1981039 ,\n",
       "       1.4163424 , 1.0608094 , 0.8822027 , 1.3357062 , 1.5225583 ,\n",
       "       1.4272578 , 1.1506724 , 0.477662  , 0.54455733, 1.2662499 ,\n",
       "       1.0836403 , 0.6644944 , 0.7654927 , 0.97742355, 0.5501727 ,\n",
       "       0.8897978 , 0.9488946 , 0.86422455, 1.1877011 , 1.1517425 ,\n",
       "       1.0018187 , 0.6709717 ], dtype=float32)"
      ]
     },
     "execution_count": 147,
     "metadata": {},
     "output_type": "execute_result"
    }
   ],
   "source": [
    "onset_env"
   ]
  },
  {
   "cell_type": "code",
   "execution_count": 146,
   "id": "55b55730-aa5a-44a1-8b5a-c65b0479c668",
   "metadata": {},
   "outputs": [
    {
     "ename": "RegexMatchError",
     "evalue": "regex_search: could not find match for (?:v=|\\/)([0-9A-Za-z_-]{11}).*",
     "output_type": "error",
     "traceback": [
      "\u001b[0;31m---------------------------------------------------------------------------\u001b[0m",
      "\u001b[0;31mRegexMatchError\u001b[0m                           Traceback (most recent call last)",
      "\u001b[0;32m/var/tmp/ipykernel_28518/3203133891.py\u001b[0m in \u001b[0;36m<module>\u001b[0;34m\u001b[0m\n\u001b[1;32m      3\u001b[0m \u001b[0;34m\u001b[0m\u001b[0m\n\u001b[1;32m      4\u001b[0m \u001b[0;31m# Download the video\u001b[0m\u001b[0;34m\u001b[0m\u001b[0;34m\u001b[0m\u001b[0;34m\u001b[0m\u001b[0m\n\u001b[0;32m----> 5\u001b[0;31m \u001b[0myt\u001b[0m \u001b[0;34m=\u001b[0m \u001b[0mYouTube\u001b[0m\u001b[0;34m(\u001b[0m\u001b[0;34m\"https://www.youtube.com/watch?v=<YTID>\"\u001b[0m\u001b[0;34m)\u001b[0m\u001b[0;34m\u001b[0m\u001b[0;34m\u001b[0m\u001b[0m\n\u001b[0m\u001b[1;32m      6\u001b[0m \u001b[0myt\u001b[0m\u001b[0;34m.\u001b[0m\u001b[0mstreams\u001b[0m\u001b[0;34m.\u001b[0m\u001b[0mfirst\u001b[0m\u001b[0;34m(\u001b[0m\u001b[0;34m)\u001b[0m\u001b[0;34m.\u001b[0m\u001b[0mdownload\u001b[0m\u001b[0;34m(\u001b[0m\u001b[0;34m)\u001b[0m\u001b[0;34m\u001b[0m\u001b[0;34m\u001b[0m\u001b[0m\n\u001b[1;32m      7\u001b[0m \u001b[0;34m\u001b[0m\u001b[0m\n",
      "\u001b[0;32m/opt/conda/envs/jupyterlab/lib/python3.7/site-packages/pytube/__main__.py\u001b[0m in \u001b[0;36m__init__\u001b[0;34m(self, url, on_progress_callback, on_complete_callback, proxies, use_oauth, allow_oauth_cache)\u001b[0m\n\u001b[1;32m     69\u001b[0m \u001b[0;34m\u001b[0m\u001b[0m\n\u001b[1;32m     70\u001b[0m         \u001b[0;31m# video_id part of /watch?v=<video_id>\u001b[0m\u001b[0;34m\u001b[0m\u001b[0;34m\u001b[0m\u001b[0;34m\u001b[0m\u001b[0m\n\u001b[0;32m---> 71\u001b[0;31m         \u001b[0mself\u001b[0m\u001b[0;34m.\u001b[0m\u001b[0mvideo_id\u001b[0m \u001b[0;34m=\u001b[0m \u001b[0mextract\u001b[0m\u001b[0;34m.\u001b[0m\u001b[0mvideo_id\u001b[0m\u001b[0;34m(\u001b[0m\u001b[0murl\u001b[0m\u001b[0;34m)\u001b[0m\u001b[0;34m\u001b[0m\u001b[0;34m\u001b[0m\u001b[0m\n\u001b[0m\u001b[1;32m     72\u001b[0m \u001b[0;34m\u001b[0m\u001b[0m\n\u001b[1;32m     73\u001b[0m         \u001b[0mself\u001b[0m\u001b[0;34m.\u001b[0m\u001b[0mwatch_url\u001b[0m \u001b[0;34m=\u001b[0m \u001b[0;34mf\"https://youtube.com/watch?v={self.video_id}\"\u001b[0m\u001b[0;34m\u001b[0m\u001b[0;34m\u001b[0m\u001b[0m\n",
      "\u001b[0;32m/opt/conda/envs/jupyterlab/lib/python3.7/site-packages/pytube/extract.py\u001b[0m in \u001b[0;36mvideo_id\u001b[0;34m(url)\u001b[0m\n\u001b[1;32m    131\u001b[0m         \u001b[0mYouTube\u001b[0m \u001b[0mvideo\u001b[0m \u001b[0mid\u001b[0m\u001b[0;34m.\u001b[0m\u001b[0;34m\u001b[0m\u001b[0;34m\u001b[0m\u001b[0m\n\u001b[1;32m    132\u001b[0m     \"\"\"\n\u001b[0;32m--> 133\u001b[0;31m     \u001b[0;32mreturn\u001b[0m \u001b[0mregex_search\u001b[0m\u001b[0;34m(\u001b[0m\u001b[0;34mr\"(?:v=|\\/)([0-9A-Za-z_-]{11}).*\"\u001b[0m\u001b[0;34m,\u001b[0m \u001b[0murl\u001b[0m\u001b[0;34m,\u001b[0m \u001b[0mgroup\u001b[0m\u001b[0;34m=\u001b[0m\u001b[0;36m1\u001b[0m\u001b[0;34m)\u001b[0m\u001b[0;34m\u001b[0m\u001b[0;34m\u001b[0m\u001b[0m\n\u001b[0m\u001b[1;32m    134\u001b[0m \u001b[0;34m\u001b[0m\u001b[0m\n\u001b[1;32m    135\u001b[0m \u001b[0;34m\u001b[0m\u001b[0m\n",
      "\u001b[0;32m/opt/conda/envs/jupyterlab/lib/python3.7/site-packages/pytube/helpers.py\u001b[0m in \u001b[0;36mregex_search\u001b[0;34m(pattern, string, group)\u001b[0m\n\u001b[1;32m    127\u001b[0m     \u001b[0mresults\u001b[0m \u001b[0;34m=\u001b[0m \u001b[0mregex\u001b[0m\u001b[0;34m.\u001b[0m\u001b[0msearch\u001b[0m\u001b[0;34m(\u001b[0m\u001b[0mstring\u001b[0m\u001b[0;34m)\u001b[0m\u001b[0;34m\u001b[0m\u001b[0;34m\u001b[0m\u001b[0m\n\u001b[1;32m    128\u001b[0m     \u001b[0;32mif\u001b[0m \u001b[0;32mnot\u001b[0m \u001b[0mresults\u001b[0m\u001b[0;34m:\u001b[0m\u001b[0;34m\u001b[0m\u001b[0;34m\u001b[0m\u001b[0m\n\u001b[0;32m--> 129\u001b[0;31m         \u001b[0;32mraise\u001b[0m \u001b[0mRegexMatchError\u001b[0m\u001b[0;34m(\u001b[0m\u001b[0mcaller\u001b[0m\u001b[0;34m=\u001b[0m\u001b[0;34m\"regex_search\"\u001b[0m\u001b[0;34m,\u001b[0m \u001b[0mpattern\u001b[0m\u001b[0;34m=\u001b[0m\u001b[0mpattern\u001b[0m\u001b[0;34m)\u001b[0m\u001b[0;34m\u001b[0m\u001b[0;34m\u001b[0m\u001b[0m\n\u001b[0m\u001b[1;32m    130\u001b[0m \u001b[0;34m\u001b[0m\u001b[0m\n\u001b[1;32m    131\u001b[0m     \u001b[0mlogger\u001b[0m\u001b[0;34m.\u001b[0m\u001b[0mdebug\u001b[0m\u001b[0;34m(\u001b[0m\u001b[0;34m\"matched regex search: %s\"\u001b[0m\u001b[0;34m,\u001b[0m \u001b[0mpattern\u001b[0m\u001b[0;34m)\u001b[0m\u001b[0;34m\u001b[0m\u001b[0;34m\u001b[0m\u001b[0m\n",
      "\u001b[0;31mRegexMatchError\u001b[0m: regex_search: could not find match for (?:v=|\\/)([0-9A-Za-z_-]{11}).*"
     ]
    }
   ],
   "source": [
    "\n",
    "from pytube import YouTube\n",
    "from moviepy.editor import VideoFileClip\n",
    "\n"
   ]
  },
  {
   "cell_type": "code",
   "execution_count": 140,
   "id": "adcf150d-449c-448b-990e-9463065165dc",
   "metadata": {},
   "outputs": [
    {
     "data": {
      "text/plain": [
       "22228"
      ]
     },
     "execution_count": 140,
     "metadata": {},
     "output_type": "execute_result"
    }
   ],
   "source": [
    "len(audio_segment)"
   ]
  },
  {
   "cell_type": "code",
   "execution_count": 145,
   "id": "f1ee9d88-56a4-4c2d-a4e0-97940ce69b00",
   "metadata": {},
   "outputs": [
    {
     "name": "stdout",
     "output_type": "stream",
     "text": [
      "Collecting moviepy\n",
      "  Downloading moviepy-1.0.3.tar.gz (388 kB)\n",
      "\u001b[2K     \u001b[90m━━━━━━━━━━━━━━━━━━━━━━━━━━━━━━━━━━━━━━\u001b[0m \u001b[32m388.3/388.3 kB\u001b[0m \u001b[31m14.6 MB/s\u001b[0m eta \u001b[36m0:00:00\u001b[0m\n",
      "\u001b[?25h  Preparing metadata (setup.py) ... \u001b[?25ldone\n",
      "\u001b[?25hCollecting decorator<5.0,>=4.0.2\n",
      "  Downloading decorator-4.4.2-py2.py3-none-any.whl (9.2 kB)\n",
      "Requirement already satisfied: tqdm<5.0,>=4.11.2 in /opt/conda/envs/jupyterlab/lib/python3.7/site-packages (from moviepy) (4.65.0)\n",
      "Requirement already satisfied: requests<3.0,>=2.8.1 in /opt/conda/envs/jupyterlab/lib/python3.7/site-packages (from moviepy) (2.28.2)\n",
      "Collecting proglog<=1.0.0\n",
      "  Downloading proglog-0.1.10-py3-none-any.whl (6.1 kB)\n",
      "Requirement already satisfied: numpy>=1.17.3 in /opt/conda/envs/jupyterlab/lib/python3.7/site-packages (from moviepy) (1.21.6)\n",
      "Collecting imageio<3.0,>=2.5\n",
      "  Downloading imageio-2.27.0-py3-none-any.whl (3.4 MB)\n",
      "\u001b[2K     \u001b[90m━━━━━━━━━━━━━━━━━━━━━━━━━━━━━━━━━━━━━━━━\u001b[0m \u001b[32m3.4/3.4 MB\u001b[0m \u001b[31m60.5 MB/s\u001b[0m eta \u001b[36m0:00:00\u001b[0m:00:01\u001b[0m\n",
      "\u001b[?25hCollecting imageio_ffmpeg>=0.2.0\n",
      "  Downloading imageio_ffmpeg-0.4.8-py3-none-manylinux2010_x86_64.whl (26.9 MB)\n",
      "\u001b[2K     \u001b[90m━━━━━━━━━━━━━━━━━━━━━━━━━━━━━━━━━━━━━━━━\u001b[0m \u001b[32m26.9/26.9 MB\u001b[0m \u001b[31m45.7 MB/s\u001b[0m eta \u001b[36m0:00:00\u001b[0m00:01\u001b[0m00:01\u001b[0m\n",
      "\u001b[?25hRequirement already satisfied: pillow>=8.3.2 in /opt/conda/envs/jupyterlab/lib/python3.7/site-packages (from imageio<3.0,>=2.5->moviepy) (9.4.0)\n",
      "Requirement already satisfied: urllib3<1.27,>=1.21.1 in /opt/conda/envs/jupyterlab/lib/python3.7/site-packages (from requests<3.0,>=2.8.1->moviepy) (1.26.15)\n",
      "Requirement already satisfied: certifi>=2017.4.17 in /opt/conda/envs/jupyterlab/lib/python3.7/site-packages (from requests<3.0,>=2.8.1->moviepy) (2022.12.7)\n",
      "Requirement already satisfied: charset-normalizer<4,>=2 in /opt/conda/envs/jupyterlab/lib/python3.7/site-packages (from requests<3.0,>=2.8.1->moviepy) (2.1.1)\n",
      "Requirement already satisfied: idna<4,>=2.5 in /opt/conda/envs/jupyterlab/lib/python3.7/site-packages (from requests<3.0,>=2.8.1->moviepy) (3.4)\n",
      "Building wheels for collected packages: moviepy\n",
      "  Building wheel for moviepy (setup.py) ... \u001b[?25ldone\n",
      "\u001b[?25h  Created wheel for moviepy: filename=moviepy-1.0.3-py3-none-any.whl size=110730 sha256=cc40714cc47bd794a6cd10032b86b6c03e740b0f70573cabc30251756f9ba6e9\n",
      "  Stored in directory: /home/jupyter/.cache/pip/wheels/56/dc/2b/9cd600d483c04af3353d66623056fc03faed76b7518faae4df\n",
      "Successfully built moviepy\n",
      "Installing collected packages: proglog, imageio_ffmpeg, imageio, decorator, moviepy\n",
      "  Attempting uninstall: decorator\n",
      "    Found existing installation: decorator 5.1.1\n",
      "    Uninstalling decorator-5.1.1:\n",
      "      Successfully uninstalled decorator-5.1.1\n",
      "Successfully installed decorator-5.1.1 imageio-2.27.0 imageio_ffmpeg-0.4.8 moviepy-1.0.3 proglog-0.1.10\n",
      "Note: you may need to restart the kernel to use updated packages.\n"
     ]
    }
   ],
   "source": [
    "pip install moviepy"
   ]
  },
  {
   "cell_type": "code",
   "execution_count": 141,
   "id": "f23d3957-7909-4e82-8a30-ef93df589373",
   "metadata": {},
   "outputs": [
    {
     "data": {
      "text/plain": [
       "2.2675736961451248e-05"
      ]
     },
     "execution_count": 141,
     "metadata": {},
     "output_type": "execute_result"
    }
   ],
   "source": [
    "1/sr"
   ]
  },
  {
   "cell_type": "code",
   "execution_count": null,
   "id": "256f7d38-6db4-4206-b906-e96fc0fefa1d",
   "metadata": {},
   "outputs": [],
   "source": []
  }
 ],
 "metadata": {
  "environment": {
   "kernel": "python3",
   "name": "tf2-gpu.2-8.m105",
   "type": "gcloud",
   "uri": "gcr.io/deeplearning-platform-release/tf2-gpu.2-8:m105"
  },
  "kernelspec": {
   "display_name": "Python 3 (ipykernel)",
   "language": "python",
   "name": "python3"
  },
  "language_info": {
   "codemirror_mode": {
    "name": "ipython",
    "version": 3
   },
   "file_extension": ".py",
   "mimetype": "text/x-python",
   "name": "python",
   "nbconvert_exporter": "python",
   "pygments_lexer": "ipython3",
   "version": "3.7.12"
  },
  "toc": {
   "base_numbering": 1,
   "nav_menu": {},
   "number_sections": true,
   "sideBar": true,
   "skip_h1_title": false,
   "title_cell": "Table of Contents",
   "title_sidebar": "Contents",
   "toc_cell": false,
   "toc_position": {},
   "toc_section_display": true,
   "toc_window_display": false
  }
 },
 "nbformat": 4,
 "nbformat_minor": 5
}

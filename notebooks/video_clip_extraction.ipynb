{
 "cells": [
  {
   "cell_type": "markdown",
   "id": "b85aeb7d",
   "metadata": {},
   "source": [
    "### Imports"
   ]
  },
  {
   "cell_type": "code",
   "execution_count": null,
   "id": "37ad94cb",
   "metadata": {},
   "outputs": [],
   "source": [
    "from IPython.display import Audio\n",
    "import os\n",
    "import pandas as pd\n",
    "import librosa\n",
    "import soundfile as sf\n",
    "import numpy as np\n",
    "import pytube\n",
    "import moviepy.editor as mp\n",
    "import math\n",
    "import subprocess"
   ]
  },
  {
   "cell_type": "markdown",
   "id": "1bf38b3e",
   "metadata": {},
   "source": [
    "### Clip extraction"
   ]
  },
  {
   "cell_type": "markdown",
   "id": "f8928d34",
   "metadata": {
    "tags": []
   },
   "source": [
    "* Takes a youtube url as input,\n",
    "* Downloads the video locally\n",
    "* Splits the video into X (default 11) segments \n",
    "* Gets the highest onset value and its timestamp from each segments\n",
    "* Outputs 1 second audio files for each segment"
   ]
  },
  {
   "cell_type": "markdown",
   "id": "dc9335f2-f09e-4c06-a025-8df95c02ca5f",
   "metadata": {},
   "source": [
    "# INSERT YOUTUBE URL HERE AND RUN CELL"
   ]
  },
  {
   "cell_type": "code",
   "execution_count": null,
   "id": "26a1d879-6e73-4ae7-98bc-a9fb1d899e5d",
   "metadata": {},
   "outputs": [],
   "source": [
    "url = 'https://www.youtube.com/watch?v=dQw4w9WgXcQ'"
   ]
  },
  {
   "cell_type": "code",
   "execution_count": 11,
   "id": "83a4da43-9bd4-4ac6-a33a-818c877f50bd",
   "metadata": {
    "tags": []
   },
   "outputs": [],
   "source": [
    "def download_video(url: str) -> str:\n",
    "    \"\"\"\n",
    "    Download the video from the provided YouTube URL and return the path of the downloaded video file.\n",
    "    \"\"\"\n",
    "    yt = pytube.YouTube(url)\n",
    "    stream = yt.streams.get_by_itag(22)    \n",
    "    video_title = yt.title  # get the title of the video\n",
    "    video_path = stream.download()\n",
    "    return video_path,video_title\n",
    "\n"
   ]
  },
  {
   "cell_type": "code",
   "execution_count": 27,
   "id": "4ab9ce75-99a3-480a-88e6-96848d2c0dad",
   "metadata": {},
   "outputs": [
    {
     "name": "stdout",
     "output_type": "stream",
     "text": [
      "MoviePy - Writing audio in audio_files/audio.wav\n"
     ]
    },
    {
     "name": "stderr",
     "output_type": "stream",
     "text": [
      "                                                                      \r"
     ]
    },
    {
     "name": "stdout",
     "output_type": "stream",
     "text": [
      "MoviePy - Done.\n",
      "MoviePy - Writing audio in audio_files/audio.wav\n"
     ]
    },
    {
     "name": "stderr",
     "output_type": "stream",
     "text": [
      "                                                                      \r"
     ]
    },
    {
     "name": "stdout",
     "output_type": "stream",
     "text": [
      "MoviePy - Done.\n",
      "Length of entire audio clip:  209.0\n"
     ]
    }
   ],
   "source": [
    "def extract_audio(video_path: str) -> str:\n",
    "    \"\"\"\n",
    "    Extract the audio from the video file and return the path of the extracted audio file.\n",
    "    \"\"\"\n",
    "    audio_path = 'audio_files/audio.wav'\n",
    "    clip = mp.VideoFileClip(video_path)\n",
    "    clip.audio.write_audiofile(audio_path)\n",
    "    \n",
    "    \n",
    "    y, sr = librosa.load(audio_path, sr=44100)\n",
    "    audio_length = len(y) / sr\n",
    "    audio_length_rounded = np.floor(audio_length / 11) * 11\n",
    "    y = y[:int(audio_length_rounded * sr)]\n",
    "\n",
    "    clip.audio.write_audiofile(audio_path)   \n",
    "    print (\"Length of entire audio clip: \", librosa.get_duration(y=y, sr=sr))\n",
    "    return audio_path\n",
    "\n"
   ]
  },
  {
   "cell_type": "code",
   "execution_count": 26,
   "id": "2ac14b9f-1038-4fbe-83ac-08c0950e4b71",
   "metadata": {},
   "outputs": [
    {
     "name": "stdout",
     "output_type": "stream",
     "text": [
      "Start time:  0.00029478458049886624\n",
      "End time:  1.0002947845804988\n",
      "Start time:  19.282834467120182\n",
      "End time:  20.282834467120182\n",
      "Start time:  38.55916099773243\n",
      "End time:  39.55916099773243\n",
      "Start time:  57.85922902494331\n",
      "End time:  58.85922902494331\n",
      "Start time:  77.11907029478458\n",
      "End time:  78.11907029478458\n",
      "Start time:  96.40986394557824\n",
      "End time:  97.40986394557824\n",
      "Start time:  115.66816326530612\n",
      "End time:  116.66816326530612\n",
      "Start time:  134.96253968253967\n",
      "End time:  135.96253968253967\n",
      "Start time:  154.22238095238095\n",
      "End time:  155.22238095238095\n",
      "Start time:  173.49666666666667\n",
      "End time:  174.49666666666667\n",
      "Start time:  192.7890022675737\n",
      "End time:  193.7890022675737\n"
     ]
    }
   ],
   "source": [
    "def extract_loudest_audio(audio_path, num_segments=11, hop_length=512):\n",
    "    y, sr = librosa.load(audio_path, sr=44100)\n",
    "    duration = len(y) / sr\n",
    "    samples_per_segment = int(len(y) / num_segments)\n",
    "    output_files = []\n",
    "    \n",
    "    for i in range(num_segments):\n",
    "        start_idx = i * samples_per_segment\n",
    "        end_idx = start_idx + samples_per_segment\n",
    "        \n",
    "        if end_idx > len(y):\n",
    "            print(f\"Warning: audio length ({duration}s) is not evenly divisible by num_segments ({num_segments}). Truncating audio.\")\n",
    "            break\n",
    "        \n",
    "        segment = y[start_idx:end_idx]\n",
    "        onset_env = librosa.onset.onset_strength(y=segment, sr=sr, hop_length=hop_length, n_fft=2048, fmax=8000)\n",
    "        \n",
    "        if not onset_env.any():\n",
    "            print(f\"Warning: onset batch {i+1} is empty. Skipping segment.\")\n",
    "            continue\n",
    "        \n",
    "        loudest_onset_idx = onset_env.argmax()\n",
    "        start_time = (start_idx + loudest_onset_idx) / sr\n",
    "        print (\"Start time: \" ,start_time)\n",
    "        end_time = start_time + 1 if start_time + 1 < duration else duration\n",
    "        print (\"End time: \" ,end_time)\n",
    "        output_path = f\"{i}.mp4\"\n",
    "        command = f'ffmpeg -y -ss {start_time:.2f} -i \"{video_path}\" -t 1 -c:v libx264 -b:v 1M -c:a aac -strict experimental -threads 1 -loglevel error {output_path}'\n",
    "\n",
    "\n",
    "        subprocess.call(command, shell=True)\n",
    "        output_files.append(output_path)\n",
    "\n",
    "    return output_files\n",
    "\n"
   ]
  },
  {
   "cell_type": "code",
   "execution_count": 28,
   "id": "fdcd20e7-b94e-48c6-843c-8572ab5f9db7",
   "metadata": {},
   "outputs": [
    {
     "name": "stdout",
     "output_type": "stream",
     "text": [
      "MoviePy - Writing audio in audio_files/audio.wav\n"
     ]
    },
    {
     "name": "stderr",
     "output_type": "stream",
     "text": [
      "                                                                      \r"
     ]
    },
    {
     "name": "stdout",
     "output_type": "stream",
     "text": [
      "MoviePy - Done.\n",
      "MoviePy - Writing audio in audio_files/audio.wav\n"
     ]
    },
    {
     "name": "stderr",
     "output_type": "stream",
     "text": [
      "                                                                      \r"
     ]
    },
    {
     "name": "stdout",
     "output_type": "stream",
     "text": [
      "MoviePy - Done.\n",
      "Length of entire audio clip:  209.0\n",
      "Start time:  0.00029478458049886624\n",
      "End time:  1.0002947845804988\n",
      "Start time:  70.77791383219954\n",
      "End time:  71.77791383219954\n",
      "Start time:  141.37244897959184\n",
      "End time:  142.37244897959184\n"
     ]
    }
   ],
   "source": [
    "video_path, video_title = download_video(url)\n",
    "audio_path = extract_audio(video_path)\n",
    "#num_segments is how many clips you want\n",
    "output_files = extract_loudest_audio(audio_path, num_segments=3)"
   ]
  },
  {
   "cell_type": "code",
   "execution_count": null,
   "id": "f9e5604b-201b-48a5-a72d-ef7b21ed92fb",
   "metadata": {},
   "outputs": [],
   "source": [
    "len(y)"
   ]
  }
 ],
 "metadata": {
  "environment": {
   "kernel": "python3",
   "name": "tf2-gpu.2-8.m105",
   "type": "gcloud",
   "uri": "gcr.io/deeplearning-platform-release/tf2-gpu.2-8:m105"
  },
  "kernelspec": {
   "display_name": "Python 3 (ipykernel)",
   "language": "python",
   "name": "python3"
  },
  "language_info": {
   "codemirror_mode": {
    "name": "ipython",
    "version": 3
   },
   "file_extension": ".py",
   "mimetype": "text/x-python",
   "name": "python",
   "nbconvert_exporter": "python",
   "pygments_lexer": "ipython3",
   "version": "3.10.6"
  },
  "toc": {
   "base_numbering": 1,
   "nav_menu": {},
   "number_sections": true,
   "sideBar": true,
   "skip_h1_title": false,
   "title_cell": "Table of Contents",
   "title_sidebar": "Contents",
   "toc_cell": false,
   "toc_position": {},
   "toc_section_display": true,
   "toc_window_display": false
  }
 },
 "nbformat": 4,
 "nbformat_minor": 5
}
